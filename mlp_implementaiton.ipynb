{
 "cells": [
  {
   "cell_type": "code",
   "execution_count": 5,
   "id": "b02d15fe-c77f-426e-a604-98c6a3228350",
   "metadata": {},
   "outputs": [],
   "source": [
    "import torch\n",
    "import torch.nn as nn\n",
    "import torchvision\n",
    "import torchvision.transforms as transforms\n",
    "\n",
    "\n",
    "transform = transforms.Compose([\n",
    "    transforms.ToTensor(),\n",
    "    transforms.Normalize((0.5,), (0.5,))\n",
    "])\n",
    "\n",
    "trainset = torchvision.datasets.MNIST(root='./data', train=True, download=True, transform=transform)\n",
    "trainloader = torch.utils.data.DataLoader(trainset, batch_size=64, shuffle=True)\n",
    "\n",
    "testset = torchvision.datasets.MNIST(root='./data', train=False, download=True, transform=transform)\n",
    "testloader = torch.utils.data.DataLoader(testset, batch_size=64, shuffle=False)\n",
    "\n",
    "\n"
   ]
  },
  {
   "cell_type": "code",
   "execution_count": 6,
   "id": "6922d2e2",
   "metadata": {},
   "outputs": [],
   "source": [
    "class MLP(nn.Module):\n",
    "    def __init__(self):\n",
    "        super(MLP, self).__init__()\n",
    "        self.fc1 = nn.Linear(784, 256)      # Input layer to first hidden layer (Complete this part of the code using right dimensions: [2marks]\n",
    "        self.relu1 = nn.ReLU()\n",
    "        self.fc2 = nn.Linear(256, 128)       # First hidden layer to second hidden layer. (Complete this part of the code using the right dimensions: [2marks]\n",
    "        self.relu2 = nn.ReLU()\n",
    "        self.fc3 = nn.Linear(128, 10)       # Second hidden layer to output layer\n",
    "\n",
    "    def forward(self, x):\n",
    "        x = x.view(-1, 28 * 28)             # Flatten the input tensor\n",
    "        x = self.relu1(self.fc1(x))                    # Apply activation function on the first layer: [2 marks]\n",
    "        x = self.relu2(self.fc2(x))                    # Apply activation function on the second layer: [2 marks]\n",
    "        x = self.fc3(x)                     # Output layer (no activation function here)\n",
    "        return x\n",
    "\n",
    "# Instantiate the model\n",
    "model = MLP()"
   ]
  },
  {
   "cell_type": "code",
   "execution_count": 3,
   "id": "b714c801",
   "metadata": {},
   "outputs": [],
   "source": [
    "criterion = nn.CrossEntropyLoss()\n",
    "\n",
    "learning_rate = 0.001"
   ]
  },
  {
   "cell_type": "code",
   "execution_count": 8,
   "id": "63b2e9ac",
   "metadata": {},
   "outputs": [
    {
     "name": "stdout",
     "output_type": "stream",
     "text": [
      "Epoch 1/5, Loss: 2.2031\n",
      "Epoch 2/5, Loss: 1.8730\n",
      "Epoch 3/5, Loss: 1.3658\n",
      "Epoch 4/5, Loss: 0.9642\n",
      "Epoch 5/5, Loss: 0.7399\n"
     ]
    }
   ],
   "source": [
    "\n",
    "epochs = 5\n",
    "\n",
    "for epoch in range(epochs):\n",
    "    running_loss = 0.0\n",
    "    for images, labels in trainloader:\n",
    "        # Zero the gradients manually\n",
    "        model.zero_grad()\n",
    "        \n",
    "        # Forward pass\n",
    "        outputs = model(images)# calculate the outputs of your model: hint: call the model that you have defined previously [2 marks]\n",
    "        loss = criterion(outputs,labels)# compute the loss: hint: call the loss function that you have defined previously [2 marks]\n",
    "        \n",
    "\n",
    "        # Backward pass\n",
    "        loss.backward()\n",
    "        # perform backward pass [2 marks]\n",
    "        \n",
    "        # Update weights manually\n",
    "        with torch.no_grad():\n",
    "            for param in model.parameters():\n",
    "                param.data += learning_rate*-param.grad\n",
    "                # update your parameters using gradient descent [2 marks]\n",
    "                \n",
    "        running_loss += loss.item()\n",
    "    avg_loss = running_loss / len(trainloader)\n",
    "    print(f'Epoch {epoch + 1}/{epochs}, Loss: {avg_loss:.4f}')"
   ]
  },
  {
   "cell_type": "code",
   "execution_count": 9,
   "id": "2488a655",
   "metadata": {},
   "outputs": [
    {
     "name": "stdout",
     "output_type": "stream",
     "text": [
      "Test Accuracy: 83.96%\n"
     ]
    }
   ],
   "source": [
    "correct = 0\n",
    "total = 0\n",
    "\n",
    "with torch.no_grad():\n",
    "    for images, labels in testloader:\n",
    "        outputs = model(images)\n",
    "        _, predicted = torch.max(outputs.data, 1)\n",
    "        total += labels.size(0)\n",
    "        correct += (predicted == labels).sum().item()\n",
    "\n",
    "accuracy = 100 * correct / total\n",
    "print(f'Test Accuracy: {accuracy:.2f}%')"
   ]
  },
  {
   "cell_type": "code",
   "execution_count": 11,
   "id": "fd8d0f60",
   "metadata": {},
   "outputs": [
    {
     "data": {
      "image/png": "[encoded data removed]",
      "text/plain": [
       "<Figure size 1000x400 with 6 Axes>"
      ]
     },
     "metadata": {},
     "output_type": "display_data"
    }
   ],
   "source": [
    "import matplotlib.pyplot as plt\n",
    "import numpy as np\n",
    "\n",
    "# Get a batch of data from the testloader\n",
    "dataiter = iter(testloader)\n",
    "images, labels = next(dataiter)  # Use next() instead of .next()\n",
    "\n",
    "# Pass images through the model to get predictions\n",
    "outputs = model(images)\n",
    "_, predicted = torch.max(outputs, 1)\n",
    "\n",
    "# Display images and predictions\n",
    "fig = plt.figure(figsize=(10, 4))\n",
    "for idx in range(6):\n",
    "    ax = fig.add_subplot(2, 3, idx + 1)\n",
    "    img = images[idx].numpy().squeeze()  # Squeeze to remove unnecessary dimensions\n",
    "    ax.imshow(img, cmap='gray')\n",
    "    ax.title.set_text(f'Predicted: {predicted[idx].item()}')\n",
    "    ax.axis('off')  # Turn off axis labels\n",
    "plt.show()"
   ]
  },
  {
   "cell_type": "markdown",
   "id": "31899117",
   "metadata": {},
   "source": [
    "Changing Learning Rate"
   ]
  },
  {
   "cell_type": "code",
   "execution_count": 17,
   "id": "bb6a6520",
   "metadata": {},
   "outputs": [],
   "source": [
    "class MLP(nn.Module):\n",
    "    def __init__(self):\n",
    "        super(MLP, self).__init__()\n",
    "        self.fc1 = nn.Linear(784, 256)      # Input layer to first hidden layer (Complete this part of the code using right dimensions: [2marks]\n",
    "        self.relu1 = nn.ReLU()\n",
    "        self.fc2 = nn.Linear(256, 128)       # First hidden layer to second hidden layer. (Complete this part of the code using the right dimensions: [2marks]\n",
    "        self.relu2 = nn.ReLU()\n",
    "        self.fc3 = nn.Linear(128, 10)       # Second hidden layer to output layer\n",
    "\n",
    "    def forward(self, x):\n",
    "        x = x.view(-1, 28 * 28)             # Flatten the input tensor\n",
    "        x = self.relu1(self.fc1(x))                    # Apply activation function on the first layer: [2 marks]\n",
    "        x = self.relu2(self.fc2(x))                    # Apply activation function on the second layer: [2 marks]\n",
    "        x = self.fc3(x)                     # Output layer (no activation function here)\n",
    "        return x\n",
    "\n",
    "# Instantiate the model\n",
    "model = MLP()"
   ]
  },
  {
   "cell_type": "code",
   "execution_count": 18,
   "id": "d7741ddb",
   "metadata": {},
   "outputs": [],
   "source": [
    "criterion = nn.CrossEntropyLoss()\n",
    "\n",
    "learning_rate = 0.01"
   ]
  },
  {
   "cell_type": "code",
   "execution_count": 34,
   "id": "93774ccf",
   "metadata": {},
   "outputs": [
    {
     "name": "stdout",
     "output_type": "stream",
     "text": [
      "Epoch 1/5, Loss: 0.2534\n",
      "Epoch 2/5, Loss: 0.2496\n",
      "Epoch 3/5, Loss: 0.2466\n",
      "Epoch 4/5, Loss: 0.2440\n",
      "Epoch 5/5, Loss: 0.2414\n"
     ]
    }
   ],
   "source": [
    "\n",
    "epochs = 5\n",
    "\n",
    "for epoch in range(epochs):\n",
    "    running_loss = 0.0\n",
    "    for images, labels in trainloader:\n",
    "        # Zero the gradients manually\n",
    "        model.zero_grad()\n",
    "        \n",
    "        # Forward pass\n",
    "        outputs = model(images)# calculate the outputs of your model: hint: call the model that you have defined previously [2 marks]\n",
    "        loss = criterion(outputs,labels)# compute the loss: hint: call the loss function that you have defined previously [2 marks]\n",
    "        \n",
    "\n",
    "        # Backward pass\n",
    "        loss.backward()\n",
    "        # perform backward pass [2 marks]\n",
    "        \n",
    "        # Update weights manually\n",
    "        with torch.no_grad():\n",
    "            for param in model.parameters():\n",
    "                param.data += learning_rate*-param.grad\n",
    "                # update your parameters using gradient descent [2 marks]\n",
    "                \n",
    "        running_loss += loss.item()\n",
    "    avg_loss = running_loss / len(trainloader)\n",
    "    print(f'Epoch {epoch + 1}/{epochs}, Loss: {avg_loss:.4f}')"
   ]
  },
  {
   "cell_type": "code",
   "execution_count": 22,
   "id": "fc62910d",
   "metadata": {},
   "outputs": [
    {
     "name": "stdout",
     "output_type": "stream",
     "text": [
      "Test Accuracy: 93.12%\n"
     ]
    }
   ],
   "source": [
    "correct = 0\n",
    "total = 0\n",
    "\n",
    "with torch.no_grad():\n",
    "    for images, labels in testloader:\n",
    "        outputs = model(images)\n",
    "        _, predicted = torch.max(outputs.data, 1)\n",
    "        total += labels.size(0)\n",
    "        correct += (predicted == labels).sum().item()\n",
    "\n",
    "accuracy = 100 * correct / total\n",
    "print(f'Test Accuracy: {accuracy:.2f}%')"
   ]
  },
  {
   "cell_type": "code",
   "execution_count": 21,
   "id": "189372de",
   "metadata": {},
   "outputs": [
    {
     "data": {
      "image/png": "[encoded data removed]",
      "text/plain": [
       "<Figure size 1000x400 with 6 Axes>"
      ]
     },
     "metadata": {},
     "output_type": "display_data"
    }
   ],
   "source": [
    "import matplotlib.pyplot as plt\n",
    "import numpy as np\n",
    "\n",
    "# Get a batch of data from the testloader\n",
    "dataiter = iter(testloader)\n",
    "images, labels = next(dataiter)  # Use next() instead of .next()\n",
    "\n",
    "# Pass images through the model to get predictions\n",
    "outputs = model(images)\n",
    "_, predicted = torch.max(outputs, 1)\n",
    "\n",
    "# Display images and predictions\n",
    "fig = plt.figure(figsize=(10, 4))\n",
    "for idx in range(6):\n",
    "    ax = fig.add_subplot(2, 3, idx + 1)\n",
    "    img = images[idx].numpy().squeeze()  # Squeeze to remove unnecessary dimensions\n",
    "    ax.imshow(img, cmap='gray')\n",
    "    ax.title.set_text(f'Predicted: {predicted[idx].item()}')\n",
    "    ax.axis('off')  # Turn off axis labels\n",
    "plt.show()"
   ]
  },
  {
   "cell_type": "markdown",
   "id": "ee3fc383",
   "metadata": {},
   "source": [
    "Adjusting Model Architecture"
   ]
  },
  {
   "cell_type": "code",
   "execution_count": 29,
   "id": "85db6448",
   "metadata": {},
   "outputs": [],
   "source": [
    "class MLP(nn.Module):\n",
    "    def __init__(self):\n",
    "        super(MLP, self).__init__()\n",
    "        self.fc1 = nn.Linear(784, 50)      # Input layer to first hidden layer (Complete this part of the code using right dimensions: [2marks]\n",
    "        self.relu1 = nn.ReLU()\n",
    "        self.fc2 = nn.Linear(50, 128)       # First hidden layer to second hidden layer. (Complete this part of the code using the right dimensions: [2marks]\n",
    "        self.relu2 = nn.ReLU()\n",
    "        self.fc3 = nn.Linear(128, 25)\n",
    "        self.relu3 = nn.ReLU()\n",
    "        self.fc4 = nn.Linear(25, 10)       # Second hidden layer to output layer\n",
    "\n",
    "    def forward(self, x):\n",
    "        x = x.view(-1, 28 * 28)             # Flatten the input tensor\n",
    "        x = self.relu1(self.fc1(x))                    # Apply activation function on the first layer: [2 marks]\n",
    "        x = self.relu2(self.fc2(x))                    # Apply activation function on the second layer: [2 marks]\n",
    "        x = self.relu3(self.fc3(x))\n",
    "        x = self.fc4(x)                     # Output layer (no activation function here)\n",
    "        return x\n",
    "\n",
    "# Instantiate the model\n",
    "model = MLP()"
   ]
  },
  {
   "cell_type": "code",
   "execution_count": 33,
   "id": "481ccf39",
   "metadata": {},
   "outputs": [],
   "source": [
    "criterion = nn.CrossEntropyLoss()\n",
    "\n",
    "learning_rate = 0.001"
   ]
  },
  {
   "cell_type": "code",
   "execution_count": 35,
   "id": "b5644484",
   "metadata": {},
   "outputs": [
    {
     "name": "stdout",
     "output_type": "stream",
     "text": [
      "Epoch 1/5, Loss: 0.2386\n",
      "Epoch 2/5, Loss: 0.2361\n",
      "Epoch 3/5, Loss: 0.2337\n",
      "Epoch 4/5, Loss: 0.2311\n",
      "Epoch 5/5, Loss: 0.2289\n"
     ]
    }
   ],
   "source": [
    "\n",
    "epochs = 5\n",
    "\n",
    "for epoch in range(epochs):\n",
    "    running_loss = 0.0\n",
    "    for images, labels in trainloader:\n",
    "        # Zero the gradients manually\n",
    "        model.zero_grad()\n",
    "        \n",
    "        # Forward pass\n",
    "        outputs = model(images)# calculate the outputs of your model: hint: call the model that you have defined previously [2 marks]\n",
    "        loss = criterion(outputs,labels)# compute the loss: hint: call the loss function that you have defined previously [2 marks]\n",
    "        \n",
    "\n",
    "        # Backward pass\n",
    "        loss.backward()\n",
    "        # perform backward pass [2 marks]\n",
    "        \n",
    "        # Update weights manually\n",
    "        with torch.no_grad():\n",
    "            for param in model.parameters():\n",
    "                param.data += learning_rate*-param.grad\n",
    "                # update your parameters using gradient descent [2 marks]\n",
    "                \n",
    "        running_loss += loss.item()\n",
    "    avg_loss = running_loss / len(trainloader)\n",
    "    print(f'Epoch {epoch + 1}/{epochs}, Loss: {avg_loss:.4f}')"
   ]
  },
  {
   "cell_type": "code",
   "execution_count": 36,
   "id": "2d0a811b",
   "metadata": {},
   "outputs": [
    {
     "name": "stdout",
     "output_type": "stream",
     "text": [
      "Test Accuracy: 93.31%\n"
     ]
    }
   ],
   "source": [
    "correct = 0\n",
    "total = 0\n",
    "\n",
    "with torch.no_grad():\n",
    "    for images, labels in testloader:\n",
    "        outputs = model(images)\n",
    "        _, predicted = torch.max(outputs.data, 1)\n",
    "        total += labels.size(0)\n",
    "        correct += (predicted == labels).sum().item()\n",
    "\n",
    "accuracy = 100 * correct / total\n",
    "print(f'Test Accuracy: {accuracy:.2f}%')"
   ]
  },
  {
   "cell_type": "code",
   "execution_count": 37,
   "id": "50e85d06",
   "metadata": {},
   "outputs": [
    {
     "data": {
      "image/png": "[encoded data removed]",
      "text/plain": [
       "<Figure size 1000x400 with 6 Axes>"
      ]
     },
     "metadata": {},
     "output_type": "display_data"
    }
   ],
   "source": [
    "import matplotlib.pyplot as plt\n",
    "import numpy as np\n",
    "\n",
    "# Get a batch of data from the testloader\n",
    "dataiter = iter(testloader)\n",
    "images, labels = next(dataiter)  # Use next() instead of .next()\n",
    "\n",
    "# Pass images through the model to get predictions\n",
    "outputs = model(images)\n",
    "_, predicted = torch.max(outputs, 1)\n",
    "\n",
    "# Display images and predictions\n",
    "fig = plt.figure(figsize=(10, 4))\n",
    "for idx in range(6):\n",
    "    ax = fig.add_subplot(2, 3, idx + 1)\n",
    "    img = images[idx].numpy().squeeze()  # Squeeze to remove unnecessary dimensions\n",
    "    ax.imshow(img, cmap='gray')\n",
    "    ax.title.set_text(f'Predicted: {predicted[idx].item()}')\n",
    "    ax.axis('off')  # Turn off axis labels\n",
    "plt.show()"
   ]
  },
  {
   "cell_type": "markdown",
   "id": "6c1826ab",
   "metadata": {},
   "source": [
    "Different Activation Functions "
   ]
  },
  {
   "cell_type": "code",
   "execution_count": 72,
   "id": "648b32f1",
   "metadata": {},
   "outputs": [],
   "source": [
    "class MLP_Tanh(nn.Module):\n",
    "    def __init__(self):\n",
    "        super(MLP_Tanh, self).__init__()\n",
    "        self.fc1 = nn.Linear(784, 256)      # Input layer to first hidden layer (Complete this part of the code using right dimensions: [2marks]\n",
    "        self.tanh1 = nn.Tanh()\n",
    "        self.fc2 = nn.Linear(256, 128)       # First hidden layer to second hidden layer. (Complete this part of the code using the right dimensions: [2marks]\n",
    "        self.tanh2 = nn.Tanh()\n",
    "        self.fc3 = nn.Linear(128, 10)       # Second hidden layer to output layer\n",
    "\n",
    "    def forward(self, x):\n",
    "        x = x.view(-1, 28 * 28)             # Flatten the input tensor\n",
    "        x = self.tanh1(self.fc1(x))                    # Apply activation function on the first layer: [2 marks]\n",
    "        x = self.tanh2(self.fc2(x))                    # Apply activation function on the second layer: [2 marks]\n",
    "        x = self.fc3(x)                     # Output layer (no activation function here)\n",
    "        return x\n",
    "    \n",
    "class MLP_Sigmoid(nn.Module):\n",
    "    def __init__(self):\n",
    "        super(MLP_Sigmoid, self).__init__()\n",
    "        self.fc1 = nn.Linear(784, 256)      # Input layer to first hidden layer (Complete this part of the code using right dimensions: [2marks]\n",
    "        self.sigmoid1 = nn.Sigmoid()\n",
    "        self.fc2 = nn.Linear(256, 128)       # First hidden layer to second hidden layer. (Complete this part of the code using the right dimensions: [2marks]\n",
    "        self.sigmoid2 = nn.Sigmoid()\n",
    "        self.fc3 = nn.Linear(128, 10)       # Second hidden layer to output layer\n",
    "\n",
    "    def forward(self, x):\n",
    "        x = x.view(-1, 28 * 28)             # Flatten the input tensor\n",
    "        x = self.sigmoid1(self.fc1(x))                    # Apply activation function on the first layer: [2 marks]\n",
    "        x = self.sigmoid2(self.fc2(x))                    # Apply activation function on the second layer: [2 marks]\n",
    "        x = self.fc3(x)                     # Output layer (no activation function here)\n",
    "        return x\n",
    "\n"
   ]
  },
  {
   "cell_type": "code",
   "execution_count": 82,
   "id": "91289047",
   "metadata": {},
   "outputs": [],
   "source": [
    "criterion = nn.CrossEntropyLoss()\n",
    "\n",
    "learning_rate = 0.001 \n"
   ]
  },
  {
   "cell_type": "code",
   "execution_count": 83,
   "id": "f8746756",
   "metadata": {},
   "outputs": [
    {
     "name": "stdout",
     "output_type": "stream",
     "text": [
      "Tanh: Epoch 1/5, Loss: 2.0957\n",
      "Sigmoid: Epoch 1/5, Loss: 2.3032\n",
      "Tanh: Epoch 2/5, Loss: 1.6048\n",
      "Sigmoid: Epoch 2/5, Loss: 2.2993\n",
      "Tanh: Epoch 3/5, Loss: 1.1715\n",
      "Sigmoid: Epoch 3/5, Loss: 2.2970\n",
      "Tanh: Epoch 4/5, Loss: 0.9027\n",
      "Sigmoid: Epoch 4/5, Loss: 2.2948\n",
      "Tanh: Epoch 5/5, Loss: 0.7433\n",
      "Sigmoid: Epoch 5/5, Loss: 2.2924\n"
     ]
    }
   ],
   "source": [
    "# Instantiate the model\n",
    "model_tanh = MLP_Tanh()\n",
    "model_sigmoid = MLP_Sigmoid()\n",
    "epochs = 5\n",
    "\n",
    "for epoch in range(epochs):\n",
    "    running_loss_t = 0.0\n",
    "    running_loss_s = 0.0\n",
    "    for images, labels in trainloader:\n",
    "        # Zero the gradients manually\n",
    "        model_tanh.zero_grad()\n",
    "        model_sigmoid.zero_grad()\n",
    "        \n",
    "        # Forward pass\n",
    "        outputs_t = model_tanh(images)# calculate the outputs of your model: hint: call the model that you have defined previously [2 marks]\n",
    "        outputs_s = model_sigmoid(images)\n",
    "        loss_t = criterion(outputs_t,labels)# compute the loss: hint: call the loss function that you have defined previously [2 marks]\n",
    "        loss_s = criterion(outputs_s, labels)\n",
    "        \n",
    "\n",
    "        # Backward pass\n",
    "        loss_t.backward()\n",
    "        loss_s.backward()\n",
    "        # perform backward pass [2 marks]\n",
    "        \n",
    "        # Update weights manually\n",
    "        with torch.no_grad():\n",
    "            for param in model_tanh.parameters():\n",
    "                param.data += -learning_rate*param.grad\n",
    "                # update your parameters using gradient descent [2 marks]\n",
    "\n",
    "        with torch.no_grad():\n",
    "            for param2 in model_sigmoid.parameters():\n",
    "                param2.data += -learning_rate*param2.grad\n",
    "                \n",
    "        running_loss_t += loss_t.item()\n",
    "        running_loss_s += loss_s.item()\n",
    "\n",
    "    avg_loss_t = running_loss_t / len(trainloader)\n",
    "    avg_loss_s = running_loss_s / len(trainloader)\n",
    "    print(f'Tanh: Epoch {epoch + 1}/{epochs}, Loss: {avg_loss_t:.4f}')\n",
    "    print(f'Sigmoid: Epoch {epoch +1}/{epochs}, Loss: {avg_loss_s:.4f}')"
   ]
  },
  {
   "cell_type": "code",
   "execution_count": 84,
   "id": "24ecb702",
   "metadata": {},
   "outputs": [
    {
     "name": "stdout",
     "output_type": "stream",
     "text": [
      "Tanh Test Accuracy: 84.69%\n",
      "Sigmoid Test Accuracy: 11.35%\n"
     ]
    }
   ],
   "source": [
    "correct_t = 0\n",
    "correct_s = 0\n",
    "total = 0\n",
    "\n",
    "with torch.no_grad():\n",
    "    for images, labels in testloader:\n",
    "        outputs_t = model_tanh(images)\n",
    "        outputs_s = model_sigmoid(images)\n",
    "        _, predicted_t = torch.max(outputs_t.data, 1)\n",
    "        _, predicted_s = torch.max(outputs_s.data, 1)\n",
    "        total += labels.size(0)\n",
    "        correct_t += (predicted_t == labels).sum().item()\n",
    "        correct_s += (predicted_s == labels).sum().item()\n",
    "\n",
    "accuracy_t = 100 * correct_t / total\n",
    "accuracy_s = 100 * correct_s / total\n",
    "print(f'Tanh Test Accuracy: {accuracy_t:.2f}%')\n",
    "print(f'Sigmoid Test Accuracy: {accuracy_s:.2f}%')\n"
   ]
  },
  {
   "cell_type": "code",
   "execution_count": 85,
   "id": "348a010a",
   "metadata": {},
   "outputs": [
    {
     "data": {
      "image/png": "[encoded data removed]",
      "text/plain": [
       "<Figure size 1000x400 with 6 Axes>"
      ]
     },
     "metadata": {},
     "output_type": "display_data"
    }
   ],
   "source": [
    "import matplotlib.pyplot as plt\n",
    "import numpy as np\n",
    "\n",
    "# Get a batch of data from the testloader\n",
    "dataiter = iter(testloader)\n",
    "images, labels = next(dataiter)  # Use next() instead of .next()\n",
    "\n",
    "# Pass images through the model to get predictions\n",
    "outputs = model_tanh(images)\n",
    "_, predicted = torch.max(outputs, 1)\n",
    "\n",
    "# Display images and predictions\n",
    "fig = plt.figure(figsize=(10, 4))\n",
    "for idx in range(6):\n",
    "    ax = fig.add_subplot(2, 3, idx + 1)\n",
    "    img = images[idx].numpy().squeeze()  # Squeeze to remove unnecessary dimensions\n",
    "    ax.imshow(img, cmap='gray')\n",
    "    ax.title.set_text(f'Tanh Predicted: {predicted[idx].item()}')\n",
    "    ax.axis('off')  # Turn off axis labels\n",
    "plt.show()"
   ]
  },
  {
   "cell_type": "code",
   "execution_count": 86,
   "id": "a22b55b3",
   "metadata": {},
   "outputs": [
    {
     "data": {
      "image/png": "[encoded data removed]",
      "text/plain": [
       "<Figure size 1000x400 with 6 Axes>"
      ]
     },
     "metadata": {},
     "output_type": "display_data"
    }
   ],
   "source": [
    "import matplotlib.pyplot as plt\n",
    "import numpy as np\n",
    "\n",
    "# Get a batch of data from the testloader\n",
    "dataiter = iter(testloader)\n",
    "images, labels = next(dataiter)  # Use next() instead of .next()\n",
    "\n",
    "# Pass images through the model to get predictions\n",
    "outputs = model_sigmoid(images)\n",
    "_, predicted = torch.max(outputs, 1)\n",
    "\n",
    "# Display images and predictions\n",
    "fig = plt.figure(figsize=(10, 4))\n",
    "for idx in range(6):\n",
    "    ax = fig.add_subplot(2, 3, idx + 1)\n",
    "    img = images[idx].numpy().squeeze()  # Squeeze to remove unnecessary dimensions\n",
    "    ax.imshow(img, cmap='gray')\n",
    "    ax.title.set_text(f'Sigmoid Predicted: {predicted[idx].item()}')\n",
    "    ax.axis('off')  # Turn off axis labels\n",
    "plt.show()"
   ]
  }
 ],
 "metadata": {
  "kernelspec": {
   "display_name": "Python 3",
   "language": "python",
   "name": "python3"
  },
  "language_info": {
   "codemirror_mode": {
    "name": "ipython",
    "version": 3
   },
   "file_extension": ".py",
   "mimetype": "text/x-python",
   "name": "python",
   "nbconvert_exporter": "python",
   "pygments_lexer": "ipython3",
   "version": "3.11.9"
  }
 },
 "nbformat": 4,
 "nbformat_minor": 5
}
