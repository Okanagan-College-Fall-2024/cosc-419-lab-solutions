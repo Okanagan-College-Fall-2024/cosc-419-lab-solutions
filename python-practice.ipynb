{
 "cells": [
  {
   "cell_type": "markdown",
   "id": "810111e2-210f-4020-a747-d8a58d58ae27",
   "metadata": {},
   "source": [
    "# Task 1:\n",
    "Implement a lambda function that accepts the dictionary defined in the cell below and increases the value of each key’s elements by one."
   ]
  },
  {
   "cell_type": "code",
   "execution_count": 4,
   "id": "06c630e4-8b28-49ee-8e45-ec2c756a568f",
   "metadata": {},
   "outputs": [
    {
     "data": {
      "text/plain": [
       "{1: [2, 3, 4], 2: [5, 6, 7]}"
      ]
     },
     "execution_count": 4,
     "metadata": {},
     "output_type": "execute_result"
    }
   ],
   "source": [
    "input_dic = {1:[1,2,3], 2:[4, 5, 6]}\n",
    "# The result of the lambda function should be: {1: [2, 3, 4], 2: [5, 6, 7]}\n",
    "modify_dic_with_lambda =lambda d: {key: [v + 1 for v in value] for key, value in d.items()}\n",
    "modify_dic_with_lambda(input_dic)"
   ]
  },
  {
   "cell_type": "markdown",
   "id": "824ef4fc-2e5c-4ebc-bbe8-a9349335156d",
   "metadata": {},
   "source": [
    "# Task 2: \n",
    "Write Python code to read names.txt, which is located inside this repository, and create a list of all the names in the file."
   ]
  },
  {
   "cell_type": "code",
   "execution_count": 14,
   "id": "7bb7980f-cbb6-4272-baf5-54bfee209e55",
   "metadata": {},
   "outputs": [
    {
     "name": "stdout",
     "output_type": "stream",
     "text": [
      "--2024-10-28 17:31:21--  https://raw.githubusercontent.com/karpathy/makemore/master/names.txt\n",
      "Resolving raw.githubusercontent.com (raw.githubusercontent.com)... 185.199.108.133, 185.199.109.133, 185.199.110.133, ...\n",
      "Connecting to raw.githubusercontent.com (raw.githubusercontent.com)|185.199.108.133|:443... connected.\n",
      "HTTP request sent, awaiting response... 200 OK\n",
      "Length: 228145 (223K) [text/plain]\n",
      "Saving to: ‘names.txt.1’\n",
      "\n",
      "names.txt.1         100%[===================>] 222.80K  --.-KB/s    in 0.02s   \n",
      "\n",
      "2024-10-28 17:31:21 (13.2 MB/s) - ‘names.txt.1’ saved [228145/228145]\n",
      "\n"
     ]
    }
   ],
   "source": [
    "\n",
    "!wget https://raw.githubusercontent.com/karpathy/makemore/master/names.txt"
   ]
  },
  {
   "cell_type": "code",
   "execution_count": 15,
   "id": "690b350d-95cd-4533-8eaa-3f64f8013828",
   "metadata": {},
   "outputs": [],
   "source": [
    "# Create a list of all names in the names.txt file\n",
    "words = open('names.txt', 'r').read().splitlines()"
   ]
  },
  {
   "cell_type": "code",
   "execution_count": 16,
   "id": "5f76e971-3826-4192-b538-4d2400e8ef3f",
   "metadata": {},
   "outputs": [
    {
     "data": {
      "text/plain": [
       "['emma', 'olivia', 'ava', 'isabella', 'sophia', 'charlotte', 'mia', 'amelia']"
      ]
     },
     "execution_count": 16,
     "metadata": {},
     "output_type": "execute_result"
    }
   ],
   "source": [
    "names[:8]  # This operation is called slicing. It should print the first 8 names from your list."
   ]
  },
  {
   "cell_type": "markdown",
   "id": "deeb19a4-95fb-4b68-b6d3-aa16ca6ef199",
   "metadata": {},
   "source": [
    "# Task 3\n",
    "\n",
    "In deep learning, data always needs to be converted into numbers. This operation is called tokenization. Use the `join` function to concatenate all names in the `names` list that you computed in the previous task into a single string. Then, convert this string into a sorted list of unique characters.\n",
    "\n",
    "Once you have this list of unique characters, your task is to create two dictionaries:\n",
    "\n",
    "1. **Encoding Dictionary (`stoi`)**: This dictionary should map each character to a unique integer, starting from 1. Use the position of each character in the sorted list as the encoding method. For example, if `'a'` is the first character in the list, it should be mapped to 1 (`{'a': 1, ...}`).\n",
    "\n",
    "2. **Decoding Dictionary (`itos`)**: This dictionary should be the reverse of the encoding dictionary, mapping integers back to their respective characters.\n",
    "\n",
    "You can use dictionary comprehension to create these dictionaries."
   ]
  },
  {
   "cell_type": "code",
   "execution_count": 30,
   "id": "f93b486a-404e-42d1-8ab7-c841a89c0808",
   "metadata": {},
   "outputs": [
    {
     "data": {
      "text/plain": [
       "{'a': 0,\n",
       " 'b': 1,\n",
       " 'c': 2,\n",
       " 'd': 3,\n",
       " 'e': 4,\n",
       " 'f': 5,\n",
       " 'g': 6,\n",
       " 'h': 7,\n",
       " 'i': 8,\n",
       " 'j': 9,\n",
       " 'k': 10,\n",
       " 'l': 11,\n",
       " 'm': 12,\n",
       " 'n': 13,\n",
       " 'o': 14,\n",
       " 'p': 15,\n",
       " 'q': 16,\n",
       " 'r': 17,\n",
       " 's': 18,\n",
       " 't': 19,\n",
       " 'u': 20,\n",
       " 'v': 21,\n",
       " 'w': 22,\n",
       " 'x': 23,\n",
       " 'y': 24,\n",
       " 'z': 25}"
      ]
     },
     "execution_count": 30,
     "metadata": {},
     "output_type": "execute_result"
    }
   ],
   "source": [
    "stoi = {char:index for index, char in enumerate(sorted(list(set(''.join(names)))))}\n",
    "itos = {value:key for key, value in stoi.items()}\n",
    "stoi"
   ]
  },
  {
   "cell_type": "markdown",
   "id": "dbc19d85-8df3-4ac3-995b-dd1f90cf2b0e",
   "metadata": {},
   "source": [
    "# Taks 4\n",
    "Implement a decorator to print the name of a function and its output value. You can use `__name__` to access the function’s name."
   ]
  },
  {
   "cell_type": "code",
   "execution_count": 31,
   "id": "7343fbd5-06f6-472a-8dce-d1c650ae8cf7",
   "metadata": {},
   "outputs": [
    {
     "name": "stdout",
     "output_type": "stream",
     "text": [
      "add_one returned 3\n"
     ]
    },
    {
     "data": {
      "text/plain": [
       "3"
      ]
     },
     "execution_count": 31,
     "metadata": {},
     "output_type": "execute_result"
    }
   ],
   "source": [
    "def outer_dec(func):\n",
    "    def wrapper(*args, **kwargs):\n",
    "        result = func(*args, **kwargs)\n",
    "        print(f\"{func.__name__} returned {result}\")\n",
    "        return result\n",
    "    return wrapper\n",
    "\n",
    "@outer_dec\n",
    "def add_one(a):\n",
    "    return a + 1\n",
    "\n",
    "add_one(2)\n"
   ]
  },
  {
   "cell_type": "markdown",
   "id": "b880e45c-4685-4632-baa1-b568be5f3b60",
   "metadata": {},
   "source": [
    "# Task 5\n",
    "Implement class Value to support the following operations\n",
    "```python\n",
    "a = Value(2.0, label='a')\n",
    "b = Value(-3.0, label='b')\n",
    "c = Value(10.0, label='c')\n",
    "e = a*b; e.label = 'e'\n",
    "d = e + c; d.label = 'd'"
   ]
  },
  {
   "cell_type": "code",
   "execution_count": 32,
   "id": "9b1f5b6a-e9f3-413e-9b17-adf82d2141d4",
   "metadata": {},
   "outputs": [],
   "source": [
    "class Value:\n",
    "    number = 0\n",
    "    label = ''\n",
    "\n",
    "    def __init__(self, a, **kwargs):\n",
    "        self.number = a\n",
    "        self.label = kwargs\n",
    "\n",
    "    def __mul__(self, other):\n",
    "        num = self.number * other.number\n",
    "        return Value(num)\n",
    "\n",
    "    def __add__(self, other):\n",
    "        num = self.number + other.number\n",
    "        return Value(num)\n",
    "\n",
    "a = Value(2.0, label='a')\n",
    "b = Value(-3.0, label='b')\n",
    "c = Value(10.0, label='c')\n",
    "e = a*b; e.label = 'e'\n",
    "d = e + c; d.label = 'd'\n",
    "\n"
   ]
  },
  {
   "cell_type": "code",
   "execution_count": null,
   "id": "b937aca8-2d65-47ba-8ad8-35d59bfa109b",
   "metadata": {},
   "outputs": [],
   "source": []
  }
 ],
 "metadata": {
  "kernelspec": {
   "display_name": "Python 3 (ipykernel)",
   "language": "python",
   "name": "python3"
  },
  "language_info": {
   "codemirror_mode": {
    "name": "ipython",
    "version": 3
   },
   "file_extension": ".py",
   "mimetype": "text/x-python",
   "name": "python",
   "nbconvert_exporter": "python",
   "pygments_lexer": "ipython3",
   "version": "3.12.6"
  }
 },
 "nbformat": 4,
 "nbformat_minor": 5
}
